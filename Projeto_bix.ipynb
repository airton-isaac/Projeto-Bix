{
 "cells": [
  {
   "attachments": {},
   "cell_type": "markdown",
   "metadata": {},
   "source": [
    "<font color='blue'>Data Science aplicada a otimização do planejamento da manutenção</font>\n",
    "\n",
    "## Importação de bibliotecas"
   ]
  },
  {
   "cell_type": "code",
   "execution_count": null,
   "metadata": {},
   "outputs": [],
   "source": [
    "import pandas as pd\n",
    "import numpy as np\n",
    "import matplotlib.pyplot as plt\n",
    "from sklearn import linear_model\n",
    "from sklearn.metrics import r2_score\n",
    "import networkx as nx"
   ]
  },
  {
   "cell_type": "markdown",
   "metadata": {},
   "source": [
    "## Importação de Dataframes"
   ]
  },
  {
   "cell_type": "code",
   "execution_count": null,
   "metadata": {},
   "outputs": [],
   "source": [
    "df = pd.read_csv('base_vigente_2020.csv')"
   ]
  },
  {
   "cell_type": "markdown",
   "metadata": {},
   "source": [
    "## Seleção de linhas relacionadas ao sistema de ar"
   ]
  },
  {
   "cell_type": "code",
   "execution_count": null,
   "metadata": {},
   "outputs": [],
   "source": [
    "df_pos = df[df['class'] == 'pos']"
   ]
  },
  {
   "cell_type": "markdown",
   "metadata": {},
   "source": [
    "## Conversão de elementos de string para float"
   ]
  },
  {
   "cell_type": "code",
   "execution_count": null,
   "metadata": {},
   "outputs": [],
   "source": [
    "df_full = {}\n",
    "df_num = {}\n",
    "for key in df_pos.keys():\n",
    "    if key == 'class':\n",
    "        continue\n",
    "    # Coluna 'aa_000' já está em formato float\n",
    "    if key == 'aa_000':\n",
    "        df_full[key] = df_pos[key]\n",
    "        df_num[key] = np.array(df_pos[key])[np.where(np.invert(np.isnan(df_pos[key])))]\n",
    "        continue\n",
    "    \n",
    "    lista_val = df_pos[key]\n",
    "    \n",
    "    full = np.array([float(val) if val.isnumeric() else np.nan for val in lista_val])\n",
    "    \n",
    "    num = full[np.where(np.invert(np.isnan(full)))]\n",
    "    \n",
    "    # Criação de dois dicionários: Um com valores nan e outro com apenas números\n",
    "    # Filtra colunas com valores constantes\n",
    "    if not len(set(num)) <= 1:\n",
    "        df_full[key] = full\n",
    "        df_num[key] = num"
   ]
  },
  {
   "cell_type": "markdown",
   "metadata": {},
   "source": [
    "## Filtra Outliers"
   ]
  },
  {
   "cell_type": "code",
   "execution_count": null,
   "metadata": {},
   "outputs": [],
   "source": [
    "df_outlier = {}\n",
    "for key in df_full.keys():\n",
    "    media = np.mean(df_num[key])\n",
    "    \n",
    "    # Retira valores que sejam 5 vezes maiores que a média de valores\n",
    "    df_outlier[key] = np.array([val if val <= 5*media else np.nan for val in df_full[key]])"
   ]
  },
  {
   "cell_type": "markdown",
   "metadata": {},
   "source": [
    "## Filtra possíveis valores que possam representar a coluna de custos"
   ]
  },
  {
   "cell_type": "code",
   "execution_count": null,
   "metadata": {},
   "outputs": [],
   "source": [
    "# O valor deve estar entre $10 e $500 e a soma próximo de $37000 (Considerando $1 = R$5.16)\n",
    "soma_real = []\n",
    "for key in df_full.keys():\n",
    "    soma = np.sum(df_num[key])\n",
    "    media = np.mean(df_num[key])\n",
    "\n",
    "    if (51.6 < media < 2580) and (soma < 200000):\n",
    "        soma_real.append(key)"
   ]
  },
  {
   "cell_type": "code",
   "execution_count": null,
   "metadata": {},
   "outputs": [],
   "source": [
    "# O valor deve estar entre $10 e $500 e a soma próximo de $37000\n",
    "soma_dolar = []\n",
    "for key in df_full.keys():\n",
    "    soma = np.sum(df_num[key])\n",
    "    media = np.mean(df_num[key])\n",
    "\n",
    "    if (10 < media < 500) and (soma < 37000):\n",
    "        soma_dolar.append(key)"
   ]
  },
  {
   "cell_type": "markdown",
   "metadata": {},
   "source": [
    "## Análise de correlação entre colunas"
   ]
  },
  {
   "cell_type": "code",
   "execution_count": null,
   "metadata": {},
   "outputs": [],
   "source": [
    "lista_r2 = []\n",
    "lista_edge = []\n",
    "G = nx.Graph()\n",
    "for (i1, key1) in enumerate(df_outlier.keys()):\n",
    "    for (i2, key2) in enumerate(df_outlier.keys()):\n",
    "        if i1 >= i2:\n",
    "            continue\n",
    "        \n",
    "        # Lista com valores nan de cada tabela\n",
    "        nan_1 = np.isnan(df_outlier[key1])\n",
    "        nan_2 = np.isnan(df_outlier[key2])\n",
    "\n",
    "        # Lista com linhas que poderão ser utilizadas\n",
    "        useful = np.invert(np.logical_or(nan_1, nan_2))\n",
    "\n",
    "        lista_1 = df_outlier[key1][np.where(useful)]\n",
    "        lista_2 = df_outlier[key2][np.where(useful)]\n",
    "\n",
    "        # Filtra colunas com valores constantes\n",
    "        if (len(set(lista_1)) <= 1) or (len(set(lista_2)) <= 1):\n",
    "            continue\n",
    "\n",
    "        # Filtra pares com menos que 15 amostras válidas\n",
    "        if len(lista_1) <= 15:\n",
    "            continue\n",
    "\n",
    "        coef = np.polyfit(lista_1, lista_2, 1)\n",
    "\n",
    "        predict = np.polyval(coef, lista_1)\n",
    "\n",
    "        r2 = r2_score(lista_2, predict)\n",
    "\n",
    "        # Relaciona colunas se R2 >= 0.8\n",
    "        if r2 >= 0.8:\n",
    "            lista_r2.append([key1, key2, r2])\n",
    "            lista_edge.append((i1, i2))\n",
    "\n",
    "# Lista com pontos que foram utilizados           \n",
    "n_dots = list(set(np.array(lista_edge).flatten()))\n",
    "\n",
    "# Lista com nome das colunas que foram utilizadas\n",
    "n_name = [list(df_outlier.keys())[i] for i in n_dots]"
   ]
  },
  {
   "cell_type": "markdown",
   "metadata": {},
   "source": [
    "## Plota correlação entre colunas"
   ]
  },
  {
   "cell_type": "code",
   "execution_count": null,
   "metadata": {},
   "outputs": [],
   "source": [
    "plt.figure(figsize=(20,10))\n",
    "G.add_edges_from(lista_edge)\n",
    "pos=nx.spring_layout(G, k=0.40)\n",
    "nx.draw(G, pos, with_labels=True, width=0.2, node_color='lightblue', alpha=0.6, node_size=600)\n",
    "plt.title('Correlação entre colunas - ano 2020')\n",
    "\n",
    "plt.legend()\n",
    "plt.show()"
   ]
  }
 ],
 "metadata": {
  "kernelspec": {
   "display_name": "Python 3",
   "language": "python",
   "name": "python3"
  },
  "language_info": {
   "codemirror_mode": {
    "name": "ipython",
    "version": 3
   },
   "file_extension": ".py",
   "mimetype": "text/x-python",
   "name": "python",
   "nbconvert_exporter": "python",
   "pygments_lexer": "ipython3",
   "version": "3.8.5"
  }
 },
 "nbformat": 4,
 "nbformat_minor": 4
}
